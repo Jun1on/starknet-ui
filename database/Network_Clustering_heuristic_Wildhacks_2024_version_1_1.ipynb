{
  "nbformat": 4,
  "nbformat_minor": 0,
  "metadata": {
    "colab": {
      "provenance": []
    },
    "kernelspec": {
      "name": "python3",
      "display_name": "Python 3"
    },
    "language_info": {
      "name": "python"
    }
  },
  "cells": [
    {
      "cell_type": "code",
      "execution_count": 1,
      "metadata": {
        "id": "KvTGI3uEq_2J"
      },
      "outputs": [],
      "source": [
        "import pandas as pd\n",
        "import random as rd\n"
      ]
    },
    {
      "cell_type": "code",
      "source": [
        "# Used to generate demo data\n",
        "# print([rd.random() > 0.5 for x in range(1, 101)])\n"
      ],
      "metadata": {
        "colab": {
          "base_uri": "https://localhost:8080/"
        },
        "id": "7cNhJk3brEaT",
        "outputId": "68b22306-4f40-4f74-fb78-7ce69b4908d4"
      },
      "execution_count": null,
      "outputs": [
        {
          "output_type": "stream",
          "name": "stdout",
          "text": [
            "[False, True, True, True, True, True, True, True, True, False, False, False, False, True, False, False, False, True, False, False, False, False, False, True, False, True, False, False, True, False, True, True, False, True, False, False, True, True, False, True, False, False, True, True, False, False, False, True, True, True, False, True, True, False, True, True, True, True, True, False, False, True, True, False, False, True, True, True, True, True, True, True, False, True, True, False, False, True, True, True, False, True, True, False, False, True, True, False, False, True, True, True, False, True, False, True, False, False, False, False]\n"
          ]
        }
      ]
    },
    {
      "cell_type": "code",
      "source": [
        "# Stores users and how likley they are\n",
        "data_dic = {\n",
        "    'id': [1, 2, 3, 4, 5, 6, 7, 8, 9, 10, 11, 12, 13, 14, 15, 16, 17, 18, 19, 20, 21, 22, 23, 24, 25, 26, 27, 28, 29, 30, 31, 32, 33, 34, 35, 36, 37, 38, 39, 40, 41, 42, 43, 44, 45, 46, 47, 48, 49, 50, 51, 52, 53, 54, 55, 56, 57, 58, 59, 60, 61, 62, 63, 64, 65, 66, 67, 68, 69, 70, 71, 72, 73, 74, 75, 76, 77, 78, 79, 80, 81, 82, 83, 84, 85, 86, 87, 88, 89, 90, 91, 92, 93, 94, 95, 96, 97, 98, 99, 100],\n",
        "    'coding': [True, False, True, False, False, False, False, False, False, False, True, False, False, False, True, True, False, True, False, True, True, False, True, True, False, True, False, False, False, False, True, True, False, True, False, False, False, True, True, False, True, False, False, False, True, True, False, False, False, False, True, False, False, True, False, False, False, True, False, True, True, False, True, True, True, True, False, False, False, True, False, True, True, False, True, False, False, False, False, False, True, True, False, True, False, False, False, False, True, True, False, False, False, False, True, True, False, False, True, True],\n",
        "    'hiking': [True, False, True, False, False, False, False, True, False, False, False, False, True, True, True, False, True, False, False, False, False, False, True, False, True, False, False, False, False, False, False, False, True, False, False, False, False, False, False, True, False, True, False, False, False, False, True, False, False, False, True, False, True, False, False, False, True, False, False, False, False, False, False, False, False, True, False, False, False, False, False, False, False, False, False, False, False, False, False, True, False, True, True, False, True, False, False, False, False, False, False, False, False, False, False, False, False, False, False, False],\n",
        "    'sports': [True, True, False, False, True, False, True, True, False, True, False, False, False, False, False, False, True, False, True, False, False, True, False, False, False, True, True, False, True, True, False, True, False, True, True, True, False, True, False, False, True, False, True, True, False, True, True, False, True, False, False, True, False, False, False, False, False, True, False, True, True, True, True, False, False, False, True, False, False, False, False, False, True, False, False, False, False, False, True, False, True, True, False, True, True, False, False, True, True, False, False, False, True, False, False, False, True, True, True, True],\n",
        "    'reading': [False, False, False, False, True, False, False, False, True, False, False, True, False, False, False, True, True, False, False, True, False, False, False, True, False, False, False, True, False, False, False, True, True, False, True, False, False, True, True, False, False, True, False, False, False, False, False, False, False, False, True, False, True, False, True, False, False, True, False, True, False, True, True, False, True, True, False, True, False, False, False, False, False, True, True, False, False, False, False, False, True, False, False, False, True, False, False, True, False, False, True, False, True, True, False, False, False, False, False, False],\n",
        "    'poker': [False, True, True, False, False, False, False, True, False, True, False, False, False, False, False, True, True, False, False, False, True, False, True, False, False, False, True, False, False, False, False, True, True, True, True, False, False, False, True, True, False, False, True, False, False, True, False, True, True, False, True, False, False, False, False, False, False, False, False, True, False, False, True, False, True, False, False, True, False, False, False, False, True, False, True, True, True, False, True, False, False, True, False, True, True, True, False, True, True, True, True, True, False, False, True, False, True, False, True, True],\n",
        "    'board games': [False, True, False, False, False, False, False, True, False, False, False, True, True, True, False, True, True, True, True, False, False, True, True, True, True, False, False, True, False, False, False, False, False, False, False, True, True, True, False, True, True, False, True, False, True, False, False, True, False, False, False, True, False, False, True, False, False, False, False, True, True, False, False, False, False, False, True, False, False, False, False, True, False, False, True, True, False, False, True, False, True, True, False, False, False, True, True, False, False, False, False, False, False, False, False, False, True, True, True, True],\n",
        "    'cooking': [False, False, False, False, False, True, True, False, False, True, False, False, False, False, False, True, False, False, True, False, False, False, False, True, False, False, False, False, True, False, False, False, False, True, False, True, True, False, False, True, True, False, False, False, False, True, True, True, False, False, False, True, False, False, False, False, False, False, True, False, False, True, True, False, True, True, True, False, False, False, False, False, False, False, True, True, False, True, False, True, False, False, False, False, True, False, False, False, True, False, True, False, False, False, False, True, True, False, True, False],\n",
        "    'gaming': [True, True, True, True, False, True, True, True, True, True, False, False, False, True, False, True, False, True, True, True, False, True, False, False, False, True, False, True, False, True, False, False, True, False, False, True, False, False, False, True, True, True, False, True, True, True, False, False, True, True, True, False, True, True, False, False, True, True, False, False, True, False, False, False, True, True, True, False, False, True, True, False, True, False, False, True, True, True, True, False, True, True, False, True, False, True, True, True, True, False, True, False, True, True, True, True, False, True, True, True],\n",
        "    'lifting': [True, False, True, False, True, True, True, True, True, False, True, True, False, True, True, True, True, True, False, True, True, False, True, False, True, False, False, True, False, True, True, False, True, True, False, True, True, False, True, False, False, True, False, False, True, True, True, False, False, True, False, False, True, False, False, False, True, False, True, True, True, False, False, False, True, False, False, True, True, True, True, True, True, False, False, True, True, True, True, True, False, True, False, False, True, False, True, True, True, True, True, True, True, False, True, True, False, True, True, True],\n",
        "    'running': [True, True, True, True, True, True, True, False, False, True, True, False, True, False, True, True, True, True, True, True, True, False, True, False, True, False, True, False, True, False, True, True, False, True, False, False, True, True, True, True, True, True, True, True, True, True, True, False, False, False, True, False, False, True, True, True, True, True, True, True, False, True, True, True, True, False, False, False, True, True, True, True, False, True, False, True, False, True, False, False, True, True, True, True, True, False, True, True, True, True, True, True, True, True, True, False, False, True, True, True],\n",
        "    'movies': [False, True, True, True, False, True, True, False, True, True, False, True, True, True, True, True, True, True, False, False, False, False, True, True, True, False, False, True, False, True, False, True, False, True, True, True, False, False, True, True, False, True, True, False, False, False, True, True, False, False, False, True, True, True, False, True, False, True, False, True, True, False, False, True, True, True, False, True, True, True, False, True, True, False, False, False, False, True, True, True, False, False, True, False, False, True, False, False, False, True, True, False, False, True, False, False, True, True, True, True],\n",
        "    'drawing': [True, False, False, False, True, False, True, False, False, False, False, False, True, False, False, True, False, True, False, False, False, False, False, False, True, False, False, True, False, False, False, False, False, False, True, False, False, False, True, False, False, False, False, False, False, False, False, True, True, True, True, False, False, True, False, False, False, False, True, False, True, True, True, True, True, False, True, False, False, False, False, False, False, False, False, False, False, True, False, False, False, False, False, False, False, False, True, True, False, False, False, False, False, True, False, False, False, False, False, False],\n",
        "    'dance': [False, True, False, True, False, False, False, True, False, False, False, False, False, True, True, False, False, False, False, False, False, False, False, False, False, False, True, False, True, False, False, False, False, True, False, False, True, False, True, True, False, True, True, False, False, False, True, True, False, False, False, True, False, False, False, True, True, True, False, True, False, True, False, False, True, True, False, True, True, False, False, False, False, True, False, False, True, False, False, True, False, False, False, False, False, True, False, False, False, True, True, False, False, False, False, True, True, False, True, False],\n",
        "    'instruments': [True, False, False, False, True, False, True, False, True, True, False, False, False, False, False, False, False, True, False, False, False, False, False, False, False, False, False, False, False, False, False, False, False, True, False, True, False, False, False, True, False, False, False, False, False, False, False, False, False, False, False, False, False, False, False, False, False, True, False, False, False, False, True, False, False, False, False, False, False, False, False, True, False, False, False, True, False, False, False, False, False, True, False, True, True, True, True, False, False, False, False, False, True, False, True, False, True, False, False, False],\n",
        "    'baking': [False, True, False, False, False, False, True, True, False, False, False, True, True, False, True, False, False, True, False, True, True, True, False, False, True, True, True, False, False, False, True, False, False, False, True, True, True, False, True, False, True, False, True, True, False, False, True, True, True, False, False, False, True, True, False, True, True, False, True, False, True, False, False, True, True, True, False, False, False, True, False, True, False, False, True, False, False, False, False, False, True, True, True, True, True, False, False, False, False, False, True, False, False, False, True, True, True, True, True, True],\n",
        "    'consulting': [False, True, True, False, False, False, False, False, True, True, True, False, False, True, False, False, False, True, False, True, False, False, False, False, True, False, True, False, True, False, True, True, True, False, False, False, False, False, False, False, False, False, True, True, True, False, False, True, False, True, True, True, True, False, True, False, False, False, True, True, False, False, True, False, True, False, True, True, False, True, True, True, True, False, False, False, True, True, False, False, True, True, True, True, False, True, False, False, False, True, False, False, False, False, False, True, True, False, False, False],\n",
        "    'engineering': [False, False, True, False, False, False, True, False, False, False, False, False, False, True, False, False, False, True, False, False, True, True, False, True, True, False, False, True, False, True, True, False, False, True, True, True, True, True, False, True, False, False, False, False, False, True, False, False, False, False, False, True, False, False, True, False, True, False, True, False, False, False, True, False, False, True, False, True, False, False, True, True, False, False, False, True, True, False, False, True, False, False, False, False, True, False, True, True, False, True, False, True, True, False, True, True, True, False, True, True],\n",
        "}\n",
        "\n",
        "user_data = pd.DataFrame(data_dic)\n",
        "\n"
      ],
      "metadata": {
        "id": "vRmfboSDrErU"
      },
      "execution_count": null,
      "outputs": []
    },
    {
      "cell_type": "code",
      "source": [
        "usernames = [\"Emma\", \"Liam\", \"Olivia\", \"Noah\", \"Ava\", \"William\", \"Sophia\", \"James\", \"Isabella\", \"Oliver\", \"Charlotte\", \"Benjamin\", \"Amelia\", \"Elijah\", \"Mia\", \"Lucas\", \"Harper\", \"Mason\", \"Evelyn\", \"Logan\", \"Abigail\", \"Alexander\", \"Emily\", \"Ethan\", \"Elizabeth\", \"Jacob\", \"Mila\", \"Michael\", \"Ella\", \"Daniel\", \"Avery\", \"Henry\", \"Sofia\", \"Jackson\", \"Camila\", \"Sebastian\", \"Aria\", \"Aiden\", \"Scarlett\", \"Matthew\", \"Victoria\", \"Samuel\", \"Madison\", \"David\", \"Luna\", \"Joseph\", \"Grace\", \"Carter\", \"Chloe\", \"Owen\", \"Penelope\", \"Wyatt\", \"Layla\", \"John\", \"Riley\", \"Jack\", \"Zoey\", \"Luke\", \"Nora\", \"Jayden\", \"Lily\", \"Dylan\", \"Eleanor\", \"Grayson\", \"Hannah\", \"Levi\", \"Lillian\", \"Isaac\", \"Addison\", \"Gabriel\", \"Aubrey\", \"Julian\", \"Ellie\", \"Mateo\", \"Stella\", \"Anthony\", \"Natalie\", \"Jaxon\", \"Zoe\", \"Lincoln\", \"Leah\", \"Joshua\", \"Willow\", \"Christopher\", \"Hazel\", \"Andrew\", \"Violet\", \"Theodore\", \"Aurora\", \"Caleb\", \"Savannah\", \"Ryan\", \"Audrey\", \"Asher\", \"Brooklyn\", \"Nathan\", \"Bella\", \"Thomas\", \"Claire\", \"Leo\", \"Skylar\"]\n",
        "\n"
      ],
      "metadata": {
        "id": "j-US-9FwPjSb"
      },
      "execution_count": null,
      "outputs": []
    },
    {
      "cell_type": "code",
      "source": [
        "# stores a list of the ids of users and a list of the number of intrests of each user\n",
        "id_pool = []\n",
        "id_interest_score = []\n",
        "for user_id in user_data['id']:\n",
        "    id_pool.append(user_id)\n",
        "    id_interest_score.append(user_data.loc[user_data['id'] == user_id, user_data.columns != 'id'].sum(axis=1).values[0])\n",
        "\n",
        "# Sorts both lists by the number of intrests, the usres with the least interests are sorted to the top\n",
        "zipped = list(zip(id_pool, id_interest_score))\n",
        "zipped_sorted = sorted(zipped, key=lambda x: x[1])\n",
        "sorted_pool, sorted_interest_scores = zip(*zipped_sorted)\n",
        "sorted_pool = list(sorted_pool)\n",
        "sorted_interest_scores = list(sorted_interest_scores)\n"
      ],
      "metadata": {
        "id": "FS8pYKiGrNFj"
      },
      "execution_count": null,
      "outputs": []
    },
    {
      "cell_type": "code",
      "source": [
        "# Returns the number of shared interest of two users\n",
        "def score_users_compatabilities(user_id_1, user_id_2):\n",
        "  return sum(user_data.loc[user_data['id'] == int(user_id_1), user_data.columns != 'id'].values[0] * user_data.loc[user_data['id'] == int(user_id_2), user_data.columns != 'id'].values[0])\n"
      ],
      "metadata": {
        "id": "gk1yRPuqxvqG"
      },
      "execution_count": null,
      "outputs": []
    },
    {
      "cell_type": "code",
      "source": [
        "# Finds and returns the best connected cantdate to the current group\n",
        "def find_best_candadite(squad, candidate_ids):\n",
        "  best_id = None\n",
        "  best_score = -1\n",
        "  for candidate_id in candidate_ids:\n",
        "    current_candidate_score = 0\n",
        "    for member in squad:\n",
        "      current_candidate_score = score_users_compatabilities(member, candidate_id)\n",
        "    if current_candidate_score > best_score:\n",
        "      best_score = current_candidate_score\n",
        "      best_id = candidate_id\n",
        "\n",
        "  return best_id\n"
      ],
      "metadata": {
        "id": "eKqdBQ3EzGPm"
      },
      "execution_count": null,
      "outputs": []
    },
    {
      "cell_type": "code",
      "source": [
        "# Seeks to make groups of friends and stoes them in squads\n",
        "squads = {}\n",
        "# Burner loop, turn into WHILE later?\n",
        "for i in range(len(sorted_pool) - 70):\n",
        "  print(f'{i}th group iteration')\n",
        "  # Selects the least connected, ungroupoed user\n",
        "  if not sorted_pool:\n",
        "    print('Everyone has a group, yay!')\n",
        "    break\n",
        "  user_star_id = sorted_pool[0]\n",
        "  squads[user_star_id] = [user_star_id]\n",
        "  cands = []\n",
        "  cands_compatabilities = []\n",
        "  # Stores the compatiability of all non-grouped users with shared interests\n",
        "  for cand_id in sorted_pool[1:]:\n",
        "    compatability_score = score_users_compatabilities(user_star_id, cand_id)\n",
        "    if compatability_score:\n",
        "      cands.append(cand_id)\n",
        "\n",
        "  # Adds members to squad until squad has reached max size\n",
        "  max_squad_size = 5\n",
        "  while len(squads[user_star_id]) < max_squad_size:\n",
        "    if not cands:\n",
        "      print('No more candidates for this squad!')\n",
        "      break\n",
        "    # Finds best new member to add and adds them to the current squad, CURRENTLY BEST CASE, CHANGE TO BEST WORSE CASE LATER!!!\n",
        "    new_member_index = find_best_candadite(squads[user_star_id], cands)\n",
        "    squads[user_star_id].append(new_member_index)\n",
        "\n",
        "    # Removes the new added member from the other pools\n",
        "    new_member_score_index = cands.index(new_member_index)\n",
        "    cands.remove(new_member_index)\n",
        "    sorted_pool.remove(new_member_index)\n",
        "\n",
        "  # Removes user_star from the pools\n",
        "  sorted_pool = sorted_pool[1:]\n",
        "  sorted_interest_scores = sorted_interest_scores[1:]\n",
        "  print(squads)\n"
      ],
      "metadata": {
        "colab": {
          "base_uri": "https://localhost:8080/"
        },
        "id": "8k2jh94srFCj",
        "outputId": "8e4e57bf-ce80-4cd0-86b9-801684380b61"
      },
      "execution_count": null,
      "outputs": [
        {
          "output_type": "stream",
          "name": "stdout",
          "text": [
            "0th group iteration\n",
            "{74: [74, 62, 63, 34, 99]}\n",
            "1th group iteration\n",
            "{74: [74, 62, 63, 34, 99], 4: [4, 42, 91, 65, 39]}\n",
            "2th group iteration\n",
            "{74: [74, 62, 63, 34, 99], 4: [4, 42, 91, 65, 39], 11: [11, 31, 72, 18, 25]}\n",
            "3th group iteration\n",
            "{74: [74, 62, 63, 34, 99], 4: [4, 42, 91, 65, 39], 11: [11, 31, 72, 18, 25], 26: [26, 41, 81, 82, 84]}\n",
            "4th group iteration\n",
            "{74: [74, 62, 63, 34, 99], 4: [4, 42, 91, 65, 39], 11: [11, 31, 72, 18, 25], 26: [26, 41, 81, 82, 84], 50: [50, 78, 7, 36, 97]}\n",
            "5th group iteration\n",
            "{74: [74, 62, 63, 34, 99], 4: [4, 42, 91, 65, 39], 11: [11, 31, 72, 18, 25], 26: [26, 41, 81, 82, 84], 50: [50, 78, 7, 36, 97], 56: [56, 15, 47, 85, 93]}\n",
            "6th group iteration\n",
            "{74: [74, 62, 63, 34, 99], 4: [4, 42, 91, 65, 39], 11: [11, 31, 72, 18, 25], 26: [26, 41, 81, 82, 84], 50: [50, 78, 7, 36, 97], 56: [56, 15, 47, 85, 93], 69: [69, 90, 3, 100, 98]}\n",
            "7th group iteration\n",
            "{74: [74, 62, 63, 34, 99], 4: [4, 42, 91, 65, 39], 11: [11, 31, 72, 18, 25], 26: [26, 41, 81, 82, 84], 50: [50, 78, 7, 36, 97], 56: [56, 15, 47, 85, 93], 69: [69, 90, 3, 100, 98], 92: [92, 21, 95, 46, 89]}\n",
            "8th group iteration\n",
            "{74: [74, 62, 63, 34, 99], 4: [4, 42, 91, 65, 39], 11: [11, 31, 72, 18, 25], 26: [26, 41, 81, 82, 84], 50: [50, 78, 7, 36, 97], 56: [56, 15, 47, 85, 93], 69: [69, 90, 3, 100, 98], 92: [92, 21, 95, 46, 89], 6: [6, 16, 60, 32, 73]}\n",
            "9th group iteration\n",
            "{74: [74, 62, 63, 34, 99], 4: [4, 42, 91, 65, 39], 11: [11, 31, 72, 18, 25], 26: [26, 41, 81, 82, 84], 50: [50, 78, 7, 36, 97], 56: [56, 15, 47, 85, 93], 69: [69, 90, 3, 100, 98], 92: [92, 21, 95, 46, 89], 6: [6, 16, 60, 32, 73], 12: [12, 28, 87, 76, 40]}\n",
            "10th group iteration\n",
            "{74: [74, 62, 63, 34, 99], 4: [4, 42, 91, 65, 39], 11: [11, 31, 72, 18, 25], 26: [26, 41, 81, 82, 84], 50: [50, 78, 7, 36, 97], 56: [56, 15, 47, 85, 93], 69: [69, 90, 3, 100, 98], 92: [92, 21, 95, 46, 89], 6: [6, 16, 60, 32, 73], 12: [12, 28, 87, 76, 40], 19: [19, 67, 52, 14, 77]}\n",
            "11th group iteration\n",
            "{74: [74, 62, 63, 34, 99], 4: [4, 42, 91, 65, 39], 11: [11, 31, 72, 18, 25], 26: [26, 41, 81, 82, 84], 50: [50, 78, 7, 36, 97], 56: [56, 15, 47, 85, 93], 69: [69, 90, 3, 100, 98], 92: [92, 21, 95, 46, 89], 6: [6, 16, 60, 32, 73], 12: [12, 28, 87, 76, 40], 19: [19, 67, 52, 14, 77], 22: [22, 8, 2, 43, 27]}\n",
            "12th group iteration\n",
            "{74: [74, 62, 63, 34, 99], 4: [4, 42, 91, 65, 39], 11: [11, 31, 72, 18, 25], 26: [26, 41, 81, 82, 84], 50: [50, 78, 7, 36, 97], 56: [56, 15, 47, 85, 93], 69: [69, 90, 3, 100, 98], 92: [92, 21, 95, 46, 89], 6: [6, 16, 60, 32, 73], 12: [12, 28, 87, 76, 40], 19: [19, 67, 52, 14, 77], 22: [22, 8, 2, 43, 27], 29: [29, 10, 86, 48, 13]}\n",
            "13th group iteration\n",
            "{74: [74, 62, 63, 34, 99], 4: [4, 42, 91, 65, 39], 11: [11, 31, 72, 18, 25], 26: [26, 41, 81, 82, 84], 50: [50, 78, 7, 36, 97], 56: [56, 15, 47, 85, 93], 69: [69, 90, 3, 100, 98], 92: [92, 21, 95, 46, 89], 6: [6, 16, 60, 32, 73], 12: [12, 28, 87, 76, 40], 19: [19, 67, 52, 14, 77], 22: [22, 8, 2, 43, 27], 29: [29, 10, 86, 48, 13], 30: [30, 79, 17, 23, 45]}\n",
            "14th group iteration\n",
            "{74: [74, 62, 63, 34, 99], 4: [4, 42, 91, 65, 39], 11: [11, 31, 72, 18, 25], 26: [26, 41, 81, 82, 84], 50: [50, 78, 7, 36, 97], 56: [56, 15, 47, 85, 93], 69: [69, 90, 3, 100, 98], 92: [92, 21, 95, 46, 89], 6: [6, 16, 60, 32, 73], 12: [12, 28, 87, 76, 40], 19: [19, 67, 52, 14, 77], 22: [22, 8, 2, 43, 27], 29: [29, 10, 86, 48, 13], 30: [30, 79, 17, 23, 45], 44: [44, 20, 70, 54, 64]}\n",
            "15th group iteration\n",
            "{74: [74, 62, 63, 34, 99], 4: [4, 42, 91, 65, 39], 11: [11, 31, 72, 18, 25], 26: [26, 41, 81, 82, 84], 50: [50, 78, 7, 36, 97], 56: [56, 15, 47, 85, 93], 69: [69, 90, 3, 100, 98], 92: [92, 21, 95, 46, 89], 6: [6, 16, 60, 32, 73], 12: [12, 28, 87, 76, 40], 19: [19, 67, 52, 14, 77], 22: [22, 8, 2, 43, 27], 29: [29, 10, 86, 48, 13], 30: [30, 79, 17, 23, 45], 44: [44, 20, 70, 54, 64], 49: [49, 35, 88, 5, 1]}\n",
            "16th group iteration\n",
            "{74: [74, 62, 63, 34, 99], 4: [4, 42, 91, 65, 39], 11: [11, 31, 72, 18, 25], 26: [26, 41, 81, 82, 84], 50: [50, 78, 7, 36, 97], 56: [56, 15, 47, 85, 93], 69: [69, 90, 3, 100, 98], 92: [92, 21, 95, 46, 89], 6: [6, 16, 60, 32, 73], 12: [12, 28, 87, 76, 40], 19: [19, 67, 52, 14, 77], 22: [22, 8, 2, 43, 27], 29: [29, 10, 86, 48, 13], 30: [30, 79, 17, 23, 45], 44: [44, 20, 70, 54, 64], 49: [49, 35, 88, 5, 1], 55: [55, 38, 24, 66, 96]}\n",
            "17th group iteration\n",
            "{74: [74, 62, 63, 34, 99], 4: [4, 42, 91, 65, 39], 11: [11, 31, 72, 18, 25], 26: [26, 41, 81, 82, 84], 50: [50, 78, 7, 36, 97], 56: [56, 15, 47, 85, 93], 69: [69, 90, 3, 100, 98], 92: [92, 21, 95, 46, 89], 6: [6, 16, 60, 32, 73], 12: [12, 28, 87, 76, 40], 19: [19, 67, 52, 14, 77], 22: [22, 8, 2, 43, 27], 29: [29, 10, 86, 48, 13], 30: [30, 79, 17, 23, 45], 44: [44, 20, 70, 54, 64], 49: [49, 35, 88, 5, 1], 55: [55, 38, 24, 66, 96], 71: [71, 57, 37, 59, 83]}\n",
            "18th group iteration\n",
            "{74: [74, 62, 63, 34, 99], 4: [4, 42, 91, 65, 39], 11: [11, 31, 72, 18, 25], 26: [26, 41, 81, 82, 84], 50: [50, 78, 7, 36, 97], 56: [56, 15, 47, 85, 93], 69: [69, 90, 3, 100, 98], 92: [92, 21, 95, 46, 89], 6: [6, 16, 60, 32, 73], 12: [12, 28, 87, 76, 40], 19: [19, 67, 52, 14, 77], 22: [22, 8, 2, 43, 27], 29: [29, 10, 86, 48, 13], 30: [30, 79, 17, 23, 45], 44: [44, 20, 70, 54, 64], 49: [49, 35, 88, 5, 1], 55: [55, 38, 24, 66, 96], 71: [71, 57, 37, 59, 83], 94: [94, 51, 33, 53, 9]}\n",
            "19th group iteration\n",
            "{74: [74, 62, 63, 34, 99], 4: [4, 42, 91, 65, 39], 11: [11, 31, 72, 18, 25], 26: [26, 41, 81, 82, 84], 50: [50, 78, 7, 36, 97], 56: [56, 15, 47, 85, 93], 69: [69, 90, 3, 100, 98], 92: [92, 21, 95, 46, 89], 6: [6, 16, 60, 32, 73], 12: [12, 28, 87, 76, 40], 19: [19, 67, 52, 14, 77], 22: [22, 8, 2, 43, 27], 29: [29, 10, 86, 48, 13], 30: [30, 79, 17, 23, 45], 44: [44, 20, 70, 54, 64], 49: [49, 35, 88, 5, 1], 55: [55, 38, 24, 66, 96], 71: [71, 57, 37, 59, 83], 94: [94, 51, 33, 53, 9], 75: [75, 61, 58, 68, 80]}\n",
            "20th group iteration\n",
            "Everyone has a group, yay!\n"
          ]
        }
      ]
    },
    {
      "cell_type": "code",
      "source": [
        "import math\n",
        "\n",
        "def format_e(n):\n",
        "    a = '%E' % n\n",
        "    return a.split('E')[0].rstrip('0').rstrip('.') + 'E' + a.split('E')[1]\n",
        "\n",
        "t = 0\n",
        "for i in range(1, 41):\n",
        "  t += math.comb(200, 5*i)\n",
        "\n",
        "print(format_e(t))"
      ],
      "metadata": {
        "colab": {
          "base_uri": "https://localhost:8080/"
        },
        "id": "9WhAAMsEXCwP",
        "outputId": "283ea45b-3156-4de7-ecdc-3f1c2732f209"
      },
      "execution_count": 5,
      "outputs": [
        {
          "output_type": "stream",
          "name": "stdout",
          "text": [
            "3.213876E+59\n"
          ]
        }
      ]
    }
  ]
}